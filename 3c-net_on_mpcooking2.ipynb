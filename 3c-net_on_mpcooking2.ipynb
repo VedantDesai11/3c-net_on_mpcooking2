{
  "nbformat": 4,
  "nbformat_minor": 0,
  "metadata": {
    "colab": {
      "name": "mpcooking_on_3c-net.ipynb",
      "provenance": [],
      "authorship_tag": "ABX9TyNcqxO9jwKWprgTfV+hQPtF",
      "include_colab_link": true
    },
    "kernelspec": {
      "name": "python3",
      "display_name": "Python 3"
    }
  },
  "cells": [
    {
      "cell_type": "markdown",
      "metadata": {
        "id": "view-in-github",
        "colab_type": "text"
      },
      "source": [
        "<a href=\"https://colab.research.google.com/github/VedantDesai11/3c-net_on_mpcooking2/blob/main/3c-net_on_mpcooking2.ipynb\" target=\"_parent\"><img src=\"https://colab.research.google.com/assets/colab-badge.svg\" alt=\"Open In Colab\"/></a>"
      ]
    },
    {
      "cell_type": "markdown",
      "metadata": {
        "id": "JJBdFmsrDZ9u"
      },
      "source": [
        "#Implement 3C-Net: Category Count and Center Loss for Weakly-Supervised Action Localization paper on mpcooking2 dataset."
      ]
    },
    {
      "cell_type": "code",
      "metadata": {
        "id": "9LkaVl7KDWbG"
      },
      "source": [
        "!git clone link/to/your/repo"
      ],
      "execution_count": null,
      "outputs": []
    }
  ]
}